{
 "cells": [
  {
   "cell_type": "markdown",
   "metadata": {},
   "source": [
    "# Setup"
   ]
  },
  {
   "cell_type": "code",
   "execution_count": 1,
   "metadata": {},
   "outputs": [
    {
     "name": "stdout",
     "output_type": "stream",
     "text": [
      "\u001b[32m\u001b[1mActivating\u001b[22m\u001b[39m environment at `~/.julia/dev/ArmMotionStabilityRecoveryPerturbations/Project.toml`\n"
     ]
    }
   ],
   "source": [
    "# Install all necessary packages\n",
    "using Pkg\n",
    "Pkg.activate(\".\")\n",
    "Pkg.instantiate()\n",
    "using Revise, ArmMotionStabilityRecoveryPerturbations, Biomechanics, ProgressMeter"
   ]
  },
  {
   "cell_type": "code",
   "execution_count": 2,
   "metadata": {},
   "outputs": [],
   "source": [
    "using Distributed\n",
    "# Add workers for parallel processing\n",
    "prs = addprocs(;topology=:master_worker, exeflags=[\"-O3\", \"--project=@.\"])\n",
    "\n",
    "# Load relevant code on all processes\n",
    "@everywhere using Revise, ArmMotionStabilityRecoveryPerturbations"
   ]
  },
  {
   "cell_type": "code",
   "execution_count": 4,
   "metadata": {},
   "outputs": [],
   "source": [
    "diskLoc = \"/media/allen/Seagate Backup Plus Drive/\"\n",
    "\n",
    "rootdir = joinpath(diskLoc,\"projects\", \"Arm-role-stability\")\n",
    "# rootdir = \"location of data\"\n",
    "\n",
    "# Read all perturbations\n",
    "perturbations = readperturbations(rootdir)\n",
    "\n",
    "# Setup progressmeter and lock\n",
    "pdesc = \"Processing data... \";"
   ]
  },
  {
   "cell_type": "code",
   "execution_count": 6,
   "metadata": {},
   "outputs": [
    {
     "data": {
      "text/plain": [
       "15-element Array{NamedTuple{(:Subject, :numperts),Tuple{Int64,Int64}},1}:\n",
       " (Subject = 1, numperts = 20) \n",
       " (Subject = 2, numperts = 60) \n",
       " (Subject = 3, numperts = 59) \n",
       " (Subject = 4, numperts = 60) \n",
       " (Subject = 5, numperts = 60) \n",
       " (Subject = 6, numperts = 60) \n",
       " (Subject = 7, numperts = 44) \n",
       " (Subject = 8, numperts = 60) \n",
       " (Subject = 9, numperts = 60) \n",
       " (Subject = 10, numperts = 60)\n",
       " (Subject = 11, numperts = 60)\n",
       " (Subject = 12, numperts = 60)\n",
       " (Subject = 13, numperts = 60)\n",
       " (Subject = 14, numperts = 60)\n",
       " (Subject = 15, numperts = 60)"
      ]
     },
     "execution_count": 6,
     "metadata": {},
     "output_type": "execute_result"
    }
   ],
   "source": [
    "[ (Subject=r[1], numperts=length(r[2]))\n",
    "    for r in [ (sub, findall(x -> x.trial.subject == sub, perturbations)) for sub in 1:15 ] ]"
   ]
  },
  {
   "cell_type": "markdown",
   "metadata": {},
   "source": [
    "## Analysis"
   ]
  },
  {
   "cell_type": "code",
   "execution_count": 31,
   "metadata": {},
   "outputs": [],
   "source": [
    "p = Progress(length(perturbations)+1; desc=pdesc, barglyphs=BarGlyphs(\"[=>.]\"))\n",
    "uplock = ReentrantLock()\n",
    "\n",
    "# Update the progressmeter in a thread-safe manner\n",
    "@everywhere function updateprogress()\n",
    "    lock(uplock)\n",
    "    next!(p)\n",
    "    unlock(uplock)\n",
    "    nothing\n",
    "end\n",
    "\n",
    "# This is used by the workers\n",
    "@everywhere function analyzeandupdate(p)\n",
    "    numstrides = 5\n",
    "    ap = analyzetrial(p, numstrides)\n",
    "    \n",
    "    # Tell the master process to update the progressmeter\n",
    "    remotecall_wait(updateprogress,1)\n",
    "    return ap\n",
    "end"
   ]
  },
  {
   "cell_type": "code",
   "execution_count": 33,
   "metadata": {},
   "outputs": [
    {
     "name": "stderr",
     "output_type": "stream",
     "text": [
      "\u001b[32mProcessing data... 100%[================================] Time: 0:02:01\u001b[39m\n"
     ]
    }
   ],
   "source": [
    "# Fit all the perturbations, don't quit on an error, add it to the results\n",
    "next!(p)\n",
    "analyzedperts = pmap(analyzeandupdate, perturbations; on_error=identity)\n",
    "finish!(p)"
   ]
  },
  {
   "cell_type": "code",
   "execution_count": 34,
   "metadata": {},
   "outputs": [],
   "source": [
    "# Check to see if any perturbations failed (to go back and see why they failed)\n",
    "badtrials = findall(x -> !isa(x, AnalyzedSegment), analyzedperts)\n",
    "if !isempty(badtrials)\n",
    "    @show badtrials\n",
    "    @show analyzedperts[badtrials]\n",
    "end"
   ]
  },
  {
   "cell_type": "code",
   "execution_count": 35,
   "metadata": {},
   "outputs": [
    {
     "data": {
      "text/plain": [
       "Task (done) @0x00007f6164788c40"
      ]
     },
     "execution_count": 35,
     "metadata": {},
     "output_type": "execute_result"
    }
   ],
   "source": [
    "# We don't need the other workers anymore\n",
    "rmprocs(prs)"
   ]
  },
  {
   "cell_type": "markdown",
   "metadata": {},
   "source": [
    "## Results printing setup and print to file"
   ]
  },
  {
   "cell_type": "code",
   "execution_count": 36,
   "metadata": {},
   "outputs": [],
   "source": [
    "using Dates, Statistics, DelimitedFiles"
   ]
  },
  {
   "cell_type": "code",
   "execution_count": 37,
   "metadata": {},
   "outputs": [
    {
     "data": {
      "text/plain": [
       "padarray"
      ]
     },
     "execution_count": 37,
     "metadata": {},
     "output_type": "execute_result"
    }
   ],
   "source": [
    "\"\"\"\n",
    "    padarray(x, dims, pad)\n",
    "\n",
    "Return a copy of `x` padded to a size of `dim` where padded elements are set to `pad`.\n",
    "\"\"\"\n",
    "function padarray(x::AbstractArray{T, N}, dsize::NTuple{DN, Int}, pad::T) where {T, N, DN}\n",
    "    @assert DN >= N\n",
    "    @assert prod(dsize .>= size(x))\n",
    "\n",
    "    out = similar(x, dsize)\n",
    "    out .= pad\n",
    "\n",
    "    out[axes(x)...] .= x\n",
    "\n",
    "    return out\n",
    "end"
   ]
  },
  {
   "cell_type": "code",
   "execution_count": 38,
   "metadata": {},
   "outputs": [
    {
     "data": {
      "text/plain": [
       "6"
      ]
     },
     "execution_count": 38,
     "metadata": {},
     "output_type": "execute_result"
    }
   ],
   "source": [
    "# Setup loop variables\n",
    "scalarstepvars = [\n",
    "    :pre_steptimes,\n",
    "    :pre_stepwidth,\n",
    "    :pre_stepfoot,\n",
    "    :post_steptimes,\n",
    "    :post_stepwidth,\n",
    "    :post_stepfoot\n",
    "    ]\n",
    "\n",
    "scalarstridevars = [\n",
    "    :pre_stridetimes,\n",
    "    :pre_stancetime,\n",
    "    :pre_swingtime,\n",
    "    :post_stridetimes,\n",
    "    :post_stancetime,\n",
    "    :post_swingtime\n",
    "]\n",
    "\n",
    "vectorvars = [\n",
    "    :pre_lvmean,\n",
    "    :pre_avmean,\n",
    "    :pre_lvstd,\n",
    "    :pre_avstd,\n",
    "    :pre_lvrms,\n",
    "    :pre_avrms,\n",
    "    :pre_lvmax,\n",
    "    :pre_avmax,\n",
    "    :pre_lvmin,\n",
    "    :pre_avmin,\n",
    "    :pre_angmom_mean,\n",
    "    :pre_angmom_std,\n",
    "    :pre_angmom_rms,\n",
    "    :pre_angmom_max,\n",
    "    :pre_angmom_min,\n",
    "    :post_lvmean,\n",
    "    :post_avmean,\n",
    "    :post_lvstd,\n",
    "    :post_avstd,\n",
    "    :post_lvrms,\n",
    "    :post_avrms,\n",
    "    :post_lvmax,\n",
    "    :post_avmax,\n",
    "    :post_lvmin,\n",
    "    :post_avmin,\n",
    "    :post_angmom_mean,\n",
    "    :post_angmom_std,\n",
    "    :post_angmom_rms,\n",
    "    :post_angmom_max,\n",
    "    :post_angmom_min,\n",
    "    :pre_com_mean,\n",
    "    :pre_com_std,\n",
    "    :pre_com_rms,\n",
    "    :pre_com_max,\n",
    "    :pre_com_min,\n",
    "    :post_com_mean,\n",
    "    :post_com_std,\n",
    "    :post_com_rms,\n",
    "    :post_com_max,\n",
    "    :post_com_min\n",
    "    ]\n",
    "\n",
    "armconds = [ :norm, :tied, :noswing ]\n",
    "symconds = [ :sym, :asym ]\n",
    "pertconds = [ :trip, :slip ]\n",
    "\n",
    "ordinals = [\n",
    "    \"first\",\n",
    "    \"second\",\n",
    "    \"third\",\n",
    "    \"fourth\",\n",
    "    \"fifth\"\n",
    "    ]\n",
    "\n",
    "subs = 1:15\n",
    "numsubs = length(subs)\n",
    "numstrides = 5\n",
    "header = 6"
   ]
  },
  {
   "cell_type": "code",
   "execution_count": 39,
   "metadata": {},
   "outputs": [
    {
     "data": {
      "text/plain": [
       "5"
      ]
     },
     "execution_count": 39,
     "metadata": {},
     "output_type": "execute_result"
    }
   ],
   "source": [
    "whichpert = 5"
   ]
  },
  {
   "cell_type": "code",
   "execution_count": 40,
   "metadata": {},
   "outputs": [
    {
     "data": {
      "text/plain": [
       "\"Analysis of the fifth stride after a perturbation\\nGenerated: 2019-10-16T14:42:37.1\\n\""
      ]
     },
     "execution_count": 40,
     "metadata": {},
     "output_type": "execute_result"
    }
   ],
   "source": [
    "# Initialize the results string\n",
    "results = Vector{String}(undef, 1)\n",
    "results[1] = \"Analysis of the $(ordinals[whichpert]) stride after a perturbation\\nGenerated: $(now())\\n\""
   ]
  },
  {
   "cell_type": "code",
   "execution_count": 41,
   "metadata": {},
   "outputs": [],
   "source": [
    "io = IOBuffer()\n",
    "for vari in eachindex(scalarstepvars)\n",
    "    subresults = fill(\",\", 5)\n",
    "    R = collect(1:15)\n",
    "\n",
    "    for arms in eachindex(armconds), symmetry in eachindex(symconds), ptype in eachindex(pertconds)\n",
    "                # Grab all the perturbations for this combination of conditions\n",
    "        relevant = findall(analyzedperts) do ap\n",
    "            ap.s.trial.conds[:arms] == armconds[arms] &&\n",
    "            ap.s.trial.conds[:sym] == symconds[symmetry] &&\n",
    "            ap.s.trial.conds[:ptype] == pertconds[ptype]\n",
    "        end\n",
    "        \n",
    "        wid = maximum( length(ap.results[scalarstepvars[vari]]) for ap in analyzedperts[relevant])\n",
    "        et = Union{Missing, eltype(analyzedperts[relevant[1]].results[scalarstepvars[vari]])}\n",
    "        \n",
    "        _r = Array{et}(missing, numsubs, wid)\n",
    "        \n",
    "        # Only print the variable/condition if it is the first of its type; this will allow a\n",
    "        # merged cell to be created to encompass all the columns below with that condition\n",
    "        subresults[1] *= prod([ arms, symmetry, ptype] .== ones(Int,3)) ? string(scalarstepvars[vari])*\",\" : \",\"\n",
    "        subresults[2] *= prod([ symmetry, ptype] .== ones(Int,2)) ? string(armconds[arms], \",\"^wid) : \",\"^wid\n",
    "        subresults[3] *= (ptype == one(Int)) ? string(symconds[symmetry], \",\"^wid) : \",\"^wid\n",
    "        subresults[4] *= string(pertconds[ptype], (\",\"^wid))\n",
    "        subresults[5] *= (string(\"Step #\", i, ',') for i in 1:wid) |> prod\n",
    "\n",
    "        for sub in subs\n",
    "            try\n",
    "                sr = sort(filter(ap -> ap.s.trial.subject == sub, analyzedperts[relevant]);\n",
    "                            by=(x -> x.s.conds[:specificpnumber]))[whichpert]\n",
    "                tmp = padarray(Vector{et}(sr.results[scalarstepvars[vari]]), (wid,), missing)\n",
    "                \n",
    "                _r[sub,:] .= tmp\n",
    "            catch e\n",
    "            end\n",
    "        end\n",
    "        \n",
    "        empt = et.b === Symbol ? Symbol() : et.b(NaN)\n",
    "        _r[ismissing.(_r)] .= empt\n",
    "\n",
    "        R = [R _r]\n",
    "    end\n",
    "    \n",
    "    writedlm(io, R, ',')\n",
    "    \n",
    "    results = [results; \"\\n\\n\"; subresults; String(take!(io)) ]\n",
    "end"
   ]
  },
  {
   "cell_type": "code",
   "execution_count": 42,
   "metadata": {},
   "outputs": [],
   "source": [
    "io = IOBuffer()\n",
    "for vari in eachindex(scalarstridevars)\n",
    "    subresults = fill(\",\", 5)\n",
    "    R = collect(1:15)\n",
    "\n",
    "    for arms in eachindex(armconds), symmetry in eachindex(symconds), ptype in eachindex(pertconds)\n",
    "                # Grab all the perturbations for this combination of conditions\n",
    "        relevant = findall(analyzedperts) do ap\n",
    "            ap.s.trial.conds[:arms] == armconds[arms] &&\n",
    "            ap.s.trial.conds[:sym] == symconds[symmetry] &&\n",
    "            ap.s.trial.conds[:ptype] == pertconds[ptype]\n",
    "        end\n",
    "        \n",
    "        wid = maximum( length(ap.results[scalarstridevars[vari]]) for ap in analyzedperts[relevant])\n",
    "        et = Union{Missing, eltype(analyzedperts[relevant[1]].results[scalarstridevars[vari]])}\n",
    "        \n",
    "        _r = Array{et}(missing, numsubs, wid)\n",
    "        \n",
    "        # Only print the variable/condition if it is the first of its type; this will allow a\n",
    "        # merged cell to be created to encompass all the columns below with that condition\n",
    "        subresults[1] *= prod([ arms, symmetry, ptype] .== ones(Int,3)) ? string(scalarstridevars[vari])*\",\" : \",\"\n",
    "        subresults[2] *= prod([ symmetry, ptype] .== ones(Int,2)) ? string(armconds[arms], \",\"^wid) : \",\"^wid\n",
    "        subresults[3] *= (ptype == one(Int)) ? string(symconds[symmetry], \",\"^wid) : \",\"^wid\n",
    "        subresults[4] *= string(pertconds[ptype], (\",\"^wid))\n",
    "        subresults[5] *= (string(\"Stride #\", i, ',') for i in 1:wid) |> prod\n",
    "\n",
    "        for sub in subs\n",
    "            try\n",
    "                sr = sort(filter(ap -> ap.s.trial.subject == sub, analyzedperts[relevant]);\n",
    "                            by=(x -> x.s.conds[:specificpnumber]))[whichpert]\n",
    "                tmp = padarray(Vector{et}(sr.results[scalarstridevars[vari]]), (wid,), missing)\n",
    "                \n",
    "                _r[sub,:] .= tmp\n",
    "            catch\n",
    "            end\n",
    "        end\n",
    "        \n",
    "        _r[ismissing.(_r)] .= NaN\n",
    "\n",
    "        R = [R _r]\n",
    "    end\n",
    "    \n",
    "    writedlm(io, R, ',')\n",
    "    \n",
    "    results = [results; \"\\n\\n\"; subresults; String(take!(io)) ]\n",
    "end"
   ]
  },
  {
   "cell_type": "code",
   "execution_count": 43,
   "metadata": {},
   "outputs": [],
   "source": [
    "io = IOBuffer()\n",
    "for vari in eachindex(vectorvars)\n",
    "    subresults = fill(\",\", header)\n",
    "    R = collect(1:15)\n",
    "\n",
    "    for arms in eachindex(armconds), symmetry in eachindex(symconds), ptype in eachindex(pertconds)\n",
    "        _r = Array{Union{Missing,Float64}}(missing, numsubs, 3*numstrides)\n",
    "        # Only print the variable/condition if it is the first of its type; this will allow a\n",
    "        # merged cell to be created to encompass all the columns below with that condition\n",
    "        subresults[1] *= prod([ arms, symmetry, ptype] .== ones(Int,3)) ? string(vectorvars[vari])*\",\" : \",\"\n",
    "        subresults[2] *= prod([ symmetry, ptype] .== ones(Int,2)) ? string(armconds[arms], \",\"^(3*numstrides)) : \",\"^(3*numstrides)\n",
    "        subresults[3] *= (ptype == one(Int)) ? string(symconds[symmetry], \",\"^(3*numstrides)) : \",\"^(3*numstrides)\n",
    "        subresults[4] *= string(pertconds[ptype], (\",\"^(3*numstrides)))\n",
    "        subresults[5] *= (string(\"Stride #\", i, ','^3) for i in 1:numstrides) |> prod\n",
    "        subresults[6] *= \"X,Y,Z,\"^numstrides\n",
    "\n",
    "        # Grab all the perturbations for this combination of conditions\n",
    "        relevant = findall(analyzedperts) do ap\n",
    "            ap.s.trial.conds[:arms] == armconds[arms] &&\n",
    "            ap.s.trial.conds[:sym] == symconds[symmetry] &&\n",
    "            ap.s.trial.conds[:ptype] == pertconds[ptype]\n",
    "        end\n",
    "\n",
    "        for sub in subs\n",
    "            try\n",
    "                sr = sort(filter(ap -> ap.s.trial.subject == sub, analyzedperts[relevant]);\n",
    "                        by=(x -> x.s.conds[:specificpnumber]))[whichpert]\n",
    "                tmp = Vector{Union{Missing,Float64}}(vcat(sr.results[vectorvars[vari]]...))\n",
    "\n",
    "                _r[sub,:] .= tmp\n",
    "            catch\n",
    "            end\n",
    "        end\n",
    "        \n",
    "        _r[ismissing.(_r)] .= NaN\n",
    "\n",
    "        R = [R _r]\n",
    "    end\n",
    "    \n",
    "    writedlm(io, R, ',')\n",
    "    \n",
    "    results = [results; \"\\n\\n\"; subresults; String(take!(io)) ]\n",
    "end"
   ]
  },
  {
   "cell_type": "code",
   "execution_count": 44,
   "metadata": {},
   "outputs": [
    {
     "data": {
      "text/plain": [
       "\"/home/allen/.julia/dev/ArmMotionStabilityRecoveryPerturbations/perturbation-analysis_pert_5.csv\""
      ]
     },
     "execution_count": 44,
     "metadata": {},
     "output_type": "execute_result"
    }
   ],
   "source": [
    "(path, io) = mktemp()\n",
    "\n",
    "for line in results\n",
    "    println(io, line)\n",
    "end\n",
    "\n",
    "close(io)\n",
    "\n",
    "resfn = joinpath(pwd(), \"perturbation-analysis_pert_$whichpert.csv\")\n",
    "\n",
    "mv(path, resfn; force=true)"
   ]
  },
  {
   "cell_type": "code",
   "execution_count": null,
   "metadata": {},
   "outputs": [],
   "source": []
  }
 ],
 "metadata": {
  "@webio": {
   "lastCommId": null,
   "lastKernelId": null
  },
  "kernelspec": {
   "display_name": "Julia 1.3.0-rc3",
   "language": "julia",
   "name": "julia-1.3"
  },
  "language_info": {
   "file_extension": ".jl",
   "mimetype": "application/julia",
   "name": "julia",
   "version": "1.3.0"
  }
 },
 "nbformat": 4,
 "nbformat_minor": 2
}
